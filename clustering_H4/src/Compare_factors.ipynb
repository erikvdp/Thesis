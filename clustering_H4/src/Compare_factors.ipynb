{
 "metadata": {
  "name": "Compare_factors"
 }, 
 "nbformat": 2, 
 "worksheets": [
  {
   "cells": [
    {
     "cell_type": "code", 
     "collapsed": false, 
     "input": [
      "%run regression.py"
     ], 
     "language": "python", 
     "outputs": [
      {
       "output_type": "stream", 
       "stream": "stdout", 
       "text": [
        "training MSE: 0.1512", 
        "test MSE: 0.155092", 
        "0.718894472362"
       ]
      }, 
      {
       "output_type": "stream", 
       "stream": "stderr", 
       "text": [
        "/System/Library/Frameworks/Python.framework/Versions/2.7/Extras/lib/python/numpy/lib/utils.py:1132: DeprecationWarning: The compiler package is deprecated and removed in Python 3.x.", 
        "  import compiler"
       ]
      }
     ], 
     "prompt_number": 1
    }, 
    {
     "cell_type": "code", 
     "collapsed": false, 
     "input": [
      "%who"
     ], 
     "language": "python", 
     "outputs": [
      {
       "output_type": "stream", 
       "stream": "stdout", 
       "text": [
        "FACTORS_FILE\tNUM_FACTORS\tNUM_FRAMES\tSONG_7DIGITALID_FILE\tSONG_FACTORS_FILE\tStandardScaler\tV\tX\tbuild_x_y\t", 
        "cross_validation\tdigitalid_song\tind_songid\tlinear_model\tload_data\tmain\tmylistdir\tnp\tos\t", 
        "pickle\tpredicted_factors\tregression\tsong_7digitalid\tsongid_ind\ttime\ttrue_factors\ty\t"
       ]
      }
     ], 
     "prompt_number": 2
    }, 
    {
     "cell_type": "code", 
     "collapsed": false, 
     "input": [
      "# make a vertical bar chart", 
      "", 
      "from pylab import *", 
      "val = mse    # the bar lengths", 
      "pos = arange(10)+.5    # the bar centers on the y axis", 
      "", 
      "figure(1)", 
      "bar(pos,val, align='center',color=\"black\")", 
      "xlabel('factors')", 
      "ylabel('MSE per factor')", 
      "show()"
     ], 
     "language": "python", 
     "outputs": [], 
     "prompt_number": "*"
    }, 
    {
     "cell_type": "code", 
     "collapsed": false, 
     "input": [
      "predicted_factors.shape[0"
     ], 
     "language": "python", 
     "outputs": [
      {
       "output_type": "pyout", 
       "prompt_number": 22, 
       "text": [
        "1990"
       ]
      }
     ], 
     "prompt_number": 22
    }, 
    {
     "cell_type": "code", 
     "collapsed": true, 
     "input": [], 
     "language": "python", 
     "outputs": []
    }
   ]
  }
 ]
}