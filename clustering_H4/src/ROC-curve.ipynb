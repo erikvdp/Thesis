{
 "metadata": {
  "name": "ROC-curve"
 }, 
 "nbformat": 2, 
 "worksheets": [
  {
   "cells": [
    {
     "cell_type": "code", 
     "collapsed": true, 
     "input": [
      "import numpy as np", 
      "import cPickle as pickle", 
      "from sklearn.metrics import roc_curve, auc", 
      "from sklearn import preprocessing", 
      "import pylab as pl"
     ], 
     "language": "python", 
     "outputs": [], 
     "prompt_number": 1
    }, 
    {
     "cell_type": "code", 
     "collapsed": true, 
     "input": [
      "factors_file =\"../pklfiles/new_V_prediction.pkl\"", 
      "VALIDATION_TRIPLETS_FILE = '../../msd_dense_subset/validation_triplets_dense_subset.txt'", 
      "INTERACTION_MATRIX_FILE = '../../msd_dense_subset/interaction_matrix.pkl'"
     ], 
     "language": "python", 
     "outputs": [], 
     "prompt_number": 2
    }, 
    {
     "cell_type": "code", 
     "collapsed": true, 
     "input": [
      "users_songs = {}", 
      "with open(VALIDATION_TRIPLETS_FILE, 'r') as f:", 
      "            for line in f:", 
      "                user, song,_ = line.strip().split(\"\\t\")", 
      "                if user not in users_songs:", 
      "                    users_songs[user] = set()", 
      "                users_songs[user].add(song)", 
      "with open(INTERACTION_MATRIX_FILE, 'r') as f:", 
      "        data = pickle.load(f)", 
      "        num_users = data['num_users']", 
      "        num_songs = data['num_songs']", 
      "        songs_map = data['songs_map']", 
      "        users_map = data['users_map']", 
      "        users_map_inv = data['users_map_inv']", 
      "        songs_map_inv = data['songs_map_inv'] #(songnr, songid)", 
      "        del data"
     ], 
     "language": "python", 
     "outputs": [], 
     "prompt_number": 3
    }, 
    {
     "cell_type": "markdown", 
     "source": [
      "AUC voor alle nummers/data"
     ]
    }, 
    {
     "cell_type": "code", 
     "collapsed": true, 
     "input": [
      "def roc_aucs(factors_file):", 
      "    with open(factors_file, 'r') as f:", 
      "        data = pickle.load(f)", 
      "        U = data['U']", 
      "        V_old = data['V_old']", 
      "        V = data['V_new']", 
      "    B_new = np.dot(U,V.T)", 
      "    roc_aucs = list()", 
      "    for i in np.array(range(100))+5000:", 
      "        if i % 1000 == 0 and i != 0:", 
      "            print '%d users done' %i", 
      "        prediction = B_new[i,:]", 
      "        if users_map_inv[i] in users_songs.keys():", 
      "            validation_songs = users_songs[users_map_inv[i]]", 
      "            idx = list()", 
      "            for song in validation_songs:", 
      "                idx.append(songs_map[song])", 
      "            idx = np.array(idx)", 
      "            validation = np.zeros((prediction.shape))", 
      "            validation[idx] = 1", 
      "            #prediction = prediction + abs(min(prediction))", 
      "            #prediction = prediction / max(prediction)", 
      "            fpr, tpr, thresholds = roc_curve(validation,prediction)", 
      "            roc_auc = auc(fpr, tpr)", 
      "            roc_aucs.append(roc_auc)", 
      "    print len(idx)", 
      "    return np.mean(roc_aucs)"
     ], 
     "language": "python", 
     "outputs": [], 
     "prompt_number": 310
    }, 
    {
     "cell_type": "code", 
     "collapsed": false, 
     "input": [
      "print roc_aucs(\"../pklfiles/new_V_original.pkl\")", 
      "print roc_aucs(\"../pklfiles/new_V_prediction.pkl\")", 
      "print roc_aucs(\"../pklfiles/new_V_random.pkl\")"
     ], 
     "language": "python", 
     "outputs": [
      {
       "output_type": "stream", 
       "stream": "stdout", 
       "text": [
        "5000 users done", 
        "31"
       ]
      }, 
      {
       "output_type": "stream", 
       "stream": "stdout", 
       "text": [
        "", 
        "0.911396174931"
       ]
      }, 
      {
       "output_type": "stream", 
       "stream": "stdout", 
       "text": [
        "", 
        "5000 users done"
       ]
      }, 
      {
       "output_type": "stream", 
       "stream": "stdout", 
       "text": [
        "", 
        "31"
       ]
      }, 
      {
       "output_type": "stream", 
       "stream": "stdout", 
       "text": [
        "", 
        "0.790019271294"
       ]
      }, 
      {
       "output_type": "stream", 
       "stream": "stdout", 
       "text": [
        "", 
        "5000 users done"
       ]
      }, 
      {
       "output_type": "stream", 
       "stream": "stdout", 
       "text": [
        "", 
        "31"
       ]
      }, 
      {
       "output_type": "stream", 
       "stream": "stdout", 
       "text": [
        "", 
        "0.603696369465"
       ]
      }, 
      {
       "output_type": "stream", 
       "stream": "stdout", 
       "text": []
      }
     ], 
     "prompt_number": 311
    }, 
    {
     "cell_type": "code", 
     "collapsed": false, 
     "input": [
      "len(idx)"
     ], 
     "language": "python", 
     "outputs": [
      {
       "output_type": "pyout", 
       "prompt_number": 308, 
       "text": [
        "55"
       ]
      }
     ], 
     "prompt_number": 308
    }, 
    {
     "cell_type": "markdown", 
     "source": [
      "AUC voor nummers die voorspeld waren:"
     ]
    }, 
    {
     "cell_type": "code", 
     "collapsed": true, 
     "input": [
      "def roc_aucs_2(factors_file):", 
      "    with open(factors_file, 'r') as f:", 
      "        data = pickle.load(f)", 
      "        U = data['U']", 
      "        V_old = data['V_old']", 
      "        V = data['V_new']", 
      "        test_idx = data['test_idx']", 
      "    test_idx = set(test_idx)", 
      "    B_new = np.dot(U,V.T)", 
      "    roc_aucs = list()", 
      "    for i in np.array(range(5000))+5000:", 
      "        prediction = B_new[i,:]", 
      "        if users_map_inv[i] in users_songs.keys():", 
      "            validation_songs = users_songs[users_map_inv[i]]", 
      "            idx = list()", 
      "            for song in validation_songs:", 
      "                if songs_map[song] in test_idx:", 
      "                    idx.append(songs_map[song])", 
      "            if len(idx) == 0:", 
      "                continue", 
      "            idx = np.array(idx)", 
      "            validation = np.zeros((prediction.shape))", 
      "            validation[idx] = 1", 
      "            fpr, tpr, thresholds = roc_curve(validation,prediction)", 
      "            roc_auc = auc(fpr, tpr)", 
      "            roc_aucs.append(roc_auc)", 
      "    return np.mean(roc_aucs)"
     ], 
     "language": "python", 
     "outputs": [], 
     "prompt_number": 317
    }, 
    {
     "cell_type": "code", 
     "collapsed": false, 
     "input": [
      "print roc_aucs_2(\"../pklfiles/new_V_original_most.pkl\")", 
      "print roc_aucs_2(\"../pklfiles/new_V_prediction_most.pkl\")", 
      "print roc_aucs_2(\"../pklfiles/new_V_random_most.pkl\")", 
      "print roc_aucs_2(\"../pklfiles/new_V_original_least.pkl\")", 
      "print roc_aucs_2(\"../pklfiles/new_V_prediction_least.pkl\")", 
      "print roc_aucs_2(\"../pklfiles/new_V_random_least.pkl\")", 
      "print roc_aucs_2(\"../pklfiles/new_V_original_random.pkl\")", 
      "print roc_aucs_2(\"../pklfiles/new_V_prediction_random.pkl\")", 
      "print roc_aucs_2(\"../pklfiles/new_V_random_random.pkl\")"
     ], 
     "language": "python", 
     "outputs": [
      {
       "ename": "KeyboardInterrupt", 
       "evalue": "", 
       "output_type": "pyerr", 
       "traceback": [
        "\u001b[0;31m---------------------------------------------------------------------------\u001b[0m\n\u001b[0;31mKeyboardInterrupt\u001b[0m                         Traceback (most recent call last)", 
        "\u001b[0;32m/Users/Enrico/Google Drive/Thesis/clusterdata/src/<ipython-input-357-fbaf00186d04>\u001b[0m in \u001b[0;36m<module>\u001b[0;34m()\u001b[0m\n\u001b[1;32m      1\u001b[0m \u001b[0;32mprint\u001b[0m \u001b[0mroc_aucs_2\u001b[0m\u001b[0;34m(\u001b[0m\u001b[0;34m\"../pklfiles/new_V_original_most.pkl\"\u001b[0m\u001b[0;34m)\u001b[0m\u001b[0;34m\u001b[0m\u001b[0m\n\u001b[0;32m----> 2\u001b[0;31m \u001b[0;32mprint\u001b[0m \u001b[0mroc_aucs_2\u001b[0m\u001b[0;34m(\u001b[0m\u001b[0;34m\"../pklfiles/new_V_prediction_most.pkl\"\u001b[0m\u001b[0;34m)\u001b[0m\u001b[0;34m\u001b[0m\u001b[0m\n\u001b[0m\u001b[1;32m      3\u001b[0m \u001b[0;32mprint\u001b[0m \u001b[0mroc_aucs_2\u001b[0m\u001b[0;34m(\u001b[0m\u001b[0;34m\"../pklfiles/new_V_random_most.pkl\"\u001b[0m\u001b[0;34m)\u001b[0m\u001b[0;34m\u001b[0m\u001b[0m\n\u001b[1;32m      4\u001b[0m \u001b[0;32mprint\u001b[0m \u001b[0mroc_aucs_2\u001b[0m\u001b[0;34m(\u001b[0m\u001b[0;34m\"../pklfiles/new_V_original_least.pkl\"\u001b[0m\u001b[0;34m)\u001b[0m\u001b[0;34m\u001b[0m\u001b[0m\n\u001b[1;32m      5\u001b[0m \u001b[0;32mprint\u001b[0m \u001b[0mroc_aucs_2\u001b[0m\u001b[0;34m(\u001b[0m\u001b[0;34m\"../pklfiles/new_V_prediction_least.pkl\"\u001b[0m\u001b[0;34m)\u001b[0m\u001b[0;34m\u001b[0m\u001b[0m\n", 
        "\u001b[0;32m/Users/Enrico/Google Drive/Thesis/clusterdata/src/<ipython-input-317-254fbb4c31d9>\u001b[0m in \u001b[0;36mroc_aucs_2\u001b[0;34m(factors_file)\u001b[0m\n\u001b[1;32m     22\u001b[0m             \u001b[0mvalidation\u001b[0m \u001b[0;34m=\u001b[0m \u001b[0mnp\u001b[0m\u001b[0;34m.\u001b[0m\u001b[0mzeros\u001b[0m\u001b[0;34m(\u001b[0m\u001b[0;34m(\u001b[0m\u001b[0mprediction\u001b[0m\u001b[0;34m.\u001b[0m\u001b[0mshape\u001b[0m\u001b[0;34m)\u001b[0m\u001b[0;34m)\u001b[0m\u001b[0;34m\u001b[0m\u001b[0m\n\u001b[1;32m     23\u001b[0m             \u001b[0mvalidation\u001b[0m\u001b[0;34m[\u001b[0m\u001b[0midx\u001b[0m\u001b[0;34m]\u001b[0m \u001b[0;34m=\u001b[0m \u001b[0;36m1\u001b[0m\u001b[0;34m\u001b[0m\u001b[0m\n\u001b[0;32m---> 24\u001b[0;31m             \u001b[0mfpr\u001b[0m\u001b[0;34m,\u001b[0m \u001b[0mtpr\u001b[0m\u001b[0;34m,\u001b[0m \u001b[0mthresholds\u001b[0m \u001b[0;34m=\u001b[0m \u001b[0mroc_curve\u001b[0m\u001b[0;34m(\u001b[0m\u001b[0mvalidation\u001b[0m\u001b[0;34m,\u001b[0m\u001b[0mprediction\u001b[0m\u001b[0;34m)\u001b[0m\u001b[0;34m\u001b[0m\u001b[0m\n\u001b[0m\u001b[1;32m     25\u001b[0m             \u001b[0mroc_auc\u001b[0m \u001b[0;34m=\u001b[0m \u001b[0mauc\u001b[0m\u001b[0;34m(\u001b[0m\u001b[0mfpr\u001b[0m\u001b[0;34m,\u001b[0m \u001b[0mtpr\u001b[0m\u001b[0;34m)\u001b[0m\u001b[0;34m\u001b[0m\u001b[0m\n\u001b[1;32m     26\u001b[0m             \u001b[0mroc_aucs\u001b[0m\u001b[0;34m.\u001b[0m\u001b[0mappend\u001b[0m\u001b[0;34m(\u001b[0m\u001b[0mroc_auc\u001b[0m\u001b[0;34m)\u001b[0m\u001b[0;34m\u001b[0m\u001b[0m\n", 
        "\u001b[0;32m/Library/Python/2.7/site-packages/scikit_learn-0.13.1-py2.7-macosx-10.8-intel.egg/sklearn/metrics/metrics.pyc\u001b[0m in \u001b[0;36mroc_curve\u001b[0;34m(y_true, y_score, pos_label)\u001b[0m\n\u001b[1;32m    513\u001b[0m             \u001b[0msum_pos\u001b[0m \u001b[0;34m+=\u001b[0m \u001b[0mcurrent_pos_count\u001b[0m\u001b[0;34m\u001b[0m\u001b[0m\n\u001b[1;32m    514\u001b[0m             \u001b[0msum_neg\u001b[0m \u001b[0;34m+=\u001b[0m \u001b[0mcurrent_neg_count\u001b[0m\u001b[0;34m\u001b[0m\u001b[0m\n\u001b[0;32m--> 515\u001b[0;31m             \u001b[0mcurrent_pos_count\u001b[0m \u001b[0;34m=\u001b[0m \u001b[0;36m1\u001b[0m \u001b[0;32mif\u001b[0m \u001b[0mvalue\u001b[0m \u001b[0;34m==\u001b[0m \u001b[0mpos_value\u001b[0m \u001b[0;32melse\u001b[0m \u001b[0;36m0\u001b[0m\u001b[0;34m\u001b[0m\u001b[0m\n\u001b[0m\u001b[1;32m    516\u001b[0m             \u001b[0mcurrent_neg_count\u001b[0m \u001b[0;34m=\u001b[0m \u001b[0;36m1\u001b[0m \u001b[0;32mif\u001b[0m \u001b[0mvalue\u001b[0m \u001b[0;34m==\u001b[0m \u001b[0mneg_value\u001b[0m \u001b[0;32melse\u001b[0m \u001b[0;36m0\u001b[0m\u001b[0;34m\u001b[0m\u001b[0m\n\u001b[1;32m    517\u001b[0m             \u001b[0midx\u001b[0m \u001b[0;34m+=\u001b[0m \u001b[0;36m1\u001b[0m\u001b[0;34m\u001b[0m\u001b[0m\n", 
        "\u001b[0;31mKeyboardInterrupt\u001b[0m: "
       ]
      }, 
      {
       "output_type": "stream", 
       "stream": "stdout", 
       "text": [
        "0.94855234822"
       ]
      }
     ], 
     "prompt_number": 357
    }, 
    {
     "cell_type": "code", 
     "collapsed": false, 
     "input": [], 
     "language": "python", 
     "outputs": [
      {
       "output_type": "pyout", 
       "prompt_number": 305, 
       "text": [
        "55"
       ]
      }
     ], 
     "prompt_number": 305
    }, 
    {
     "cell_type": "markdown", 
     "source": [
      "Voorbeeld ROC curve voor user_ind (alle nummers)"
     ]
    }, 
    {
     "cell_type": "code", 
     "collapsed": true, 
     "input": [
      "user_ind = 3343", 
      "with open(\"../pklfiles/new_V_original_random.pkl\", 'r') as f:", 
      "        data = pickle.load(f)", 
      "        U = data['U']", 
      "        V_old = data['V_old']", 
      "        V = data['V_new']", 
      "        test_idx = data['test_idx']", 
      "", 
      "B_new = np.dot(U,V.T)", 
      "prediction = B_new[user_ind]", 
      "validation_songs = users_songs[users_map_inv[user_ind]]", 
      "idx = list()", 
      "for song in validation_songs:", 
      "    if songs_map[song] in test_idx:", 
      "        idx.append(songs_map[song])", 
      "idx = np.array(idx)", 
      "validation = np.zeros((prediction.shape))", 
      "validation[idx] = 1", 
      "fpr_original, tpr_original, thresholds = roc_curve(validation,prediction)", 
      "roc_auc_original = auc(fpr_original, tpr_original)", 
      "", 
      "with open(\"../pklfiles/new_V_prediction_random.pkl\", 'r') as f:", 
      "        data = pickle.load(f)", 
      "        U = data['U']", 
      "        V_old = data['V_old']", 
      "        V = data['V_new']", 
      "        test_idx = data['test_idx']", 
      "", 
      "B_new = np.dot(U,V.T)", 
      "prediction = B_new[user_ind]", 
      "validation_songs = users_songs[users_map_inv[user_ind]]", 
      "idx = list()", 
      "for song in validation_songs:", 
      "    if songs_map[song] in test_idx:", 
      "        idx.append(songs_map[song])", 
      "idx = np.array(idx)", 
      "validation = np.zeros((prediction.shape))", 
      "validation[idx] = 1", 
      "fpr_prediction, tpr_prediction, thresholds = roc_curve(validation,prediction)", 
      "roc_auc_prediction = auc(fpr_prediction, tpr_prediction)", 
      "", 
      "with open(\"../pklfiles/new_V_random_random.pkl\", 'r') as f:", 
      "        data = pickle.load(f)", 
      "        U = data['U']", 
      "        V_old = data['V_old']", 
      "        V = data['V_new']", 
      "        test_idx = data['test_idx']", 
      "B_new = np.dot(U,V.T)", 
      "prediction = B_new[user_ind]", 
      "validation_songs = users_songs[users_map_inv[user_ind]]", 
      "idx = list()", 
      "for song in validation_songs:", 
      "    if songs_map[song] in test_idx:", 
      "        idx.append(songs_map[song])", 
      "idx = np.array(idx)", 
      "validation = np.zeros((prediction.shape))", 
      "validation[idx] = 1", 
      "fpr_random, tpr_random, thresholds = roc_curve(validation,prediction)", 
      "roc_auc_random = auc(fpr_random, tpr_random)", 
      "", 
      "with open(\"../pklfiles/new_V_random_random.pkl\", 'r') as f:", 
      "        data = pickle.load(f)", 
      "        U = data['U']", 
      "        V_old = data['V_old']", 
      "        V = data['V_new']", 
      "        test_idx = data['test_idx']", 
      "V[list(test_idx)] = 0", 
      "B_new = np.dot(U,V.T)", 
      "prediction = B_new[user_ind]", 
      "validation_songs = users_songs[users_map_inv[user_ind]]", 
      "idx = list()", 
      "for song in validation_songs:", 
      "    idx.append(songs_map[song])", 
      "idx = np.array(idx)", 
      "validation = np.zeros((prediction.shape))", 
      "validation[idx] = 1", 
      "fpr_zeros, tpr_zeros, thresholds = roc_curve(validation,prediction)", 
      "roc_auc_zeros = auc(fpr_zeros, tpr_zeros)", 
      "", 
      "pl.figure(1)", 
      "pl.clf()", 
      "pl.plot(fpr_original, tpr_original,label='ROC curve origineel (area = %0.2f)' % roc_auc_original)", 
      "pl.plot(fpr_prediction, tpr_prediction,label='ROC curve 25%% voorspelling (area = %0.2f)' % roc_auc_prediction)", 
      "pl.plot(fpr_random, tpr_random,label='ROC curve 25 %% willekeurig (area = %0.2f)' % roc_auc_random)", 
      "#pl.plot(fpr_zeros, tpr_zeros,label='ROC curve 25 %% 0-waarden (area = %0.2f)' % roc_auc_zeros)", 
      "pl.plot([0, 1], [0, 1], 'k--')", 
      "pl.xlim([0.0, 1.0])", 
      "pl.ylim([0.0, 1.0])", 
      "pl.ylabel(\"TPR\",size=15)", 
      "pl.xlabel(\"FPR\",size=15)", 
      "pl.title('ROC-curves voor voorspelde nummers\\n'", 
      "         'gebruiker %d' % user_ind,size=15)", 
      "pl.legend(loc=\"lower right\")", 
      "pl.show()"
     ], 
     "language": "python", 
     "outputs": []
    }, 
    {
     "cell_type": "markdown", 
     "source": [
      "Voorbeeld ROC curve voor user_ind (voorspelde nummers)"
     ]
    }, 
    {
     "cell_type": "code", 
     "collapsed": true, 
     "input": [
      "user_ind = 3343", 
      "with open(\"../pklfiles/new_V_original_random.pkl\", 'r') as f:", 
      "        data = pickle.load(f)", 
      "        U = data['U']", 
      "        V_old = data['V_old']", 
      "        V = data['V_new']", 
      "        test_idx = data['test_idx']", 
      "", 
      "B_new = np.dot(U,V.T)", 
      "prediction = B_new[user_ind]", 
      "validation_songs = users_songs[users_map_inv[user_ind]]", 
      "idx = list()", 
      "for song in validation_songs:", 
      "    idx.append(songs_map[song])", 
      "idx = np.array(idx)", 
      "validation = np.zeros((prediction.shape))", 
      "validation[idx] = 1", 
      "fpr_original, tpr_original, thresholds = roc_curve(validation,prediction)", 
      "roc_auc_original = auc(fpr_original, tpr_original)", 
      "", 
      "with open(\"../pklfiles/new_V_prediction_random.pkl\", 'r') as f:", 
      "        data = pickle.load(f)", 
      "        U = data['U']", 
      "        V_old = data['V_old']", 
      "        V = data['V_new']", 
      "        test_idx = data['test_idx']", 
      "", 
      "B_new = np.dot(U,V.T)", 
      "prediction = B_new[user_ind]", 
      "validation_songs = users_songs[users_map_inv[user_ind]]", 
      "idx = list()", 
      "for song in validation_songs:", 
      "    idx.append(songs_map[song])", 
      "idx = np.array(idx)", 
      "validation = np.zeros((prediction.shape))", 
      "validation[idx] = 1", 
      "fpr_prediction, tpr_prediction, thresholds = roc_curve(validation,prediction)", 
      "roc_auc_prediction = auc(fpr_prediction, tpr_prediction)", 
      "", 
      "with open(\"../pklfiles/new_V_random_random.pkl\", 'r') as f:", 
      "        data = pickle.load(f)", 
      "        U = data['U']", 
      "        V_old = data['V_old']", 
      "        V = data['V_new']", 
      "        test_idx = data['test_idx']", 
      "B_new = np.dot(U,V.T)", 
      "prediction = B_new[user_ind]", 
      "validation_songs = users_songs[users_map_inv[user_ind]]", 
      "idx = list()", 
      "for song in validation_songs:", 
      "    idx.append(songs_map[song])", 
      "idx = np.array(idx)", 
      "validation = np.zeros((prediction.shape))", 
      "validation[idx] = 1", 
      "fpr_random, tpr_random, thresholds = roc_curve(validation,prediction)", 
      "roc_auc_random = auc(fpr_random, tpr_random)", 
      "", 
      "with open(\"../pklfiles/new_V_random_random.pkl\", 'r') as f:", 
      "        data = pickle.load(f)", 
      "        U = data['U']", 
      "        V_old = data['V_old']", 
      "        V = data['V_new']", 
      "        test_idx = data['test_idx']", 
      "V[list(test_idx)] = 0", 
      "B_new = np.dot(U,V.T)", 
      "prediction = B_new[user_ind]", 
      "validation_songs = users_songs[users_map_inv[user_ind]]", 
      "idx = list()", 
      "for song in validation_songs:", 
      "    idx.append(songs_map[song])", 
      "idx = np.array(idx)", 
      "validation = np.zeros((prediction.shape))", 
      "validation[idx] = 1", 
      "fpr_zeros, tpr_zeros, thresholds = roc_curve(validation,prediction)", 
      "roc_auc_zeros = auc(fpr_zeros, tpr_zeros)", 
      "", 
      "pl.figure(1)", 
      "pl.clf()", 
      "pl.plot(fpr_original, tpr_original,label='ROC curve origineel (area = %0.2f)' % roc_auc_original)", 
      "pl.plot(fpr_prediction, tpr_prediction,label='ROC curve 25%% voorspelling (area = %0.2f)' % roc_auc_prediction)", 
      "pl.plot(fpr_random, tpr_random,label='ROC curve 25 %% willekeurig (area = %0.2f)' % roc_auc_random)", 
      "#pl.plot(fpr_zeros, tpr_zeros,label='ROC curve 25 %% 0-waarden (area = %0.2f)' % roc_auc_zeros)", 
      "pl.plot([0, 1], [0, 1], 'k--')", 
      "pl.xlim([0.0, 1.0])", 
      "pl.ylim([0.0, 1.0])", 
      "pl.ylabel(\"TPR\",size=15)", 
      "pl.xlabel(\"FPR\",size=15)", 
      "pl.title('ROC-curves voor voorspelde nummers\\n'", 
      "         'gebruiker %d' % user_ind,size=15)", 
      "pl.legend(loc=\"lower right\")", 
      "pl.show()"
     ], 
     "language": "python", 
     "outputs": [], 
     "prompt_number": 12
    }, 
    {
     "cell_type": "code", 
     "collapsed": false, 
     "input": [
      "max_ = 0", 
      "ind = 0", 
      "for i in users_songs.keys():", 
      "    songs = users_songs[i]", 
      "    if len(songs) > max_:", 
      "        max_ = len(songs)", 
      "        user = i", 
      "print max_", 
      "print users_map[user]", 
      "print len(users_songs[user])"
     ], 
     "language": "python", 
     "outputs": [
      {
       "output_type": "stream", 
       "stream": "stdout", 
       "text": [
        "177", 
        "3375", 
        "177"
       ]
      }
     ], 
     "prompt_number": 354
    }, 
    {
     "cell_type": "code", 
     "collapsed": false, 
     "input": [
      "print len(users_songs[users_map_inv[3343]])"
     ], 
     "language": "python", 
     "outputs": [
      {
       "output_type": "stream", 
       "stream": "stdout", 
       "text": [
        "41"
       ]
      }
     ], 
     "prompt_number": 21
    }, 
    {
     "cell_type": "code", 
     "collapsed": true, 
     "input": [], 
     "language": "python", 
     "outputs": []
    }
   ]
  }
 ]
}