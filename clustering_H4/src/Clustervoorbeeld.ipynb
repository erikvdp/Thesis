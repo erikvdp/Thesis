{
 "metadata": {
  "name": "Clustervoorbeeld"
 }, 
 "nbformat": 2, 
 "worksheets": [
  {
   "cells": [
    {
     "cell_type": "code", 
     "collapsed": false, 
     "input": [
      "cd /Users/Enrico/Google Drive/Thesis/clusterdata/mfccnpy/whitened"
     ], 
     "language": "python", 
     "outputs": [
      {
       "output_type": "stream", 
       "stream": "stdout", 
       "text": [
        "/Users/Enrico/Google Drive/Thesis/clusterdata/mfccnpy/whitened"
       ]
      }
     ], 
     "prompt_number": 4
    }, 
    {
     "cell_type": "code", 
     "collapsed": false, 
     "input": [
      "print __doc__", 
      "", 
      "from time import time", 
      "import numpy as np", 
      "import pylab as pl", 
      "", 
      "from sklearn import metrics", 
      "from sklearn.cluster import KMeans", 
      "from sklearn.datasets import load_digits", 
      "from sklearn.decomposition import PCA", 
      "from sklearn.preprocessing import scale", 
      "", 
      "np.random.seed(42)", 
      "", 
      "mfccs = np.load('144.npy')", 
      "data = scale(mfccs)", 
      "", 
      "n_samples, n_features = data.shape", 
      "n_digits = len(np.unique(digits.target))", 
      "labels = digits.target", 
      "", 
      "sample_size = 300"
     ], 
     "language": "python", 
     "outputs": [
      {
       "output_type": "stream", 
       "stream": "stdout", 
       "text": [
        "Automatically created module for IPython interactive environment"
       ]
      }
     ], 
     "prompt_number": 7
    }, 
    {
     "cell_type": "code", 
     "collapsed": false, 
     "input": [
      "###############################################################################", 
      "# Visualize PCA-reduced data", 
      "reduced_data = PCA(n_components=2).fit_transform(data)", 
      "# Step size of the mesh. Decrease to increase the quality of the VQ.", 
      "h = .02     # point in the mesh [x_min, m_max]x[y_min, y_max].", 
      "", 
      "# Plot the decision boundary. For that, we will asign a color to each", 
      "x_min, x_max = reduced_data[:, 0].min() + 1, reduced_data[:, 0].max() - 1", 
      "y_min, y_max = reduced_data[:, 1].min() + 1, reduced_data[:, 1].max() - 1", 
      "xx, yy = np.meshgrid(np.arange(x_min, x_max, h), np.arange(y_min, y_max, h))", 
      "", 
      "", 
      "pl.figure(1)", 
      "pl.clf()", 
      "pl.plot(reduced_data[:, 0], reduced_data[:, 1],'ro', markersize=1)", 
      "pl.title('Florence & The Machine - Dog Days Are Over\\n'", 
      "         'MFCC voorstelling (PCA-gereduceerd)')", 
      "pl.xlabel('1e principele component')", 
      "pl.ylabel('2e principele component')", 
      "pl.xlim(x_min, x_max)", 
      "pl.ylim(y_min, y_max)", 
      "pl.xticks(())", 
      "pl.yticks(())", 
      "pl.show()"
     ], 
     "language": "python", 
     "outputs": [], 
     "prompt_number": "*"
    }, 
    {
     "cell_type": "code", 
     "collapsed": false, 
     "input": [
      "###############################################################################", 
      "# Visualize the results on PCA-reduced data", 
      "", 
      "reduced_data = PCA(n_components=2).fit_transform(data)", 
      "kmeans = KMeans(init='k-means++', n_clusters=n_digits, n_init=10)", 
      "kmeans.fit(reduced_data)"
     ], 
     "language": "python", 
     "outputs": [
      {
       "output_type": "pyout", 
       "prompt_number": 10, 
       "text": [
        "KMeans(copy_x=True, init='k-means++', k=None, max_iter=300, n_clusters=10,", 
        "    n_init=10, n_jobs=1, precompute_distances=True, random_state=None,", 
        "    tol=0.0001, verbose=0)"
       ]
      }
     ], 
     "prompt_number": 10
    }, 
    {
     "cell_type": "code", 
     "collapsed": false, 
     "input": [
      "# Step size of the mesh. Decrease to increase the quality of the VQ.", 
      "h = .02     # point in the mesh [x_min, m_max]x[y_min, y_max].", 
      "", 
      "# Plot the decision boundary. For that, we will asign a color to each", 
      "x_min, x_max = reduced_data[:, 0].min() + 1, reduced_data[:, 0].max() - 1", 
      "y_min, y_max = reduced_data[:, 1].min() + 1, reduced_data[:, 1].max() - 1", 
      "xx, yy = np.meshgrid(np.arange(x_min, x_max, h), np.arange(y_min, y_max, h))", 
      "", 
      "# Obtain labels for each point in mesh. Use last trained model.", 
      "Z = kmeans.predict(np.c_[xx.ravel(), yy.ravel()])", 
      "", 
      "# Put the result into a color plot", 
      "Z = Z.reshape(xx.shape)", 
      "pl.figure(1)", 
      "pl.clf()", 
      "pl.imshow(Z, interpolation='nearest',", 
      "          extent=(xx.min(), xx.max(), yy.min(), yy.max()),", 
      "          cmap=pl.cm.Paired,", 
      "          aspect='auto', origin='lower')", 
      "", 
      "pl.plot(reduced_data[:, 0], reduced_data[:, 1], 'k.', markersize=2)", 
      "# Plot the centroids as a white X", 
      "centroids = kmeans.cluster_centers_", 
      "pl.scatter(centroids[:, 0], centroids[:, 1],", 
      "           marker='x', s=169, linewidths=3,", 
      "           color='w', zorder=10)", 
      "pl.title('Florence & The Machine - Dog Days Are Over\\n'", 
      "         'geclusterde MFCC voorstelling (PCA-gereduceerd)')", 
      "pl.xlim(x_min, x_max)", 
      "pl.ylim(y_min, y_max)", 
      "pl.xlabel('1e principele component')", 
      "pl.ylabel('2e principele component')", 
      "pl.xticks(())", 
      "pl.yticks(())", 
      "pl.show()"
     ], 
     "language": "python", 
     "outputs": [
      {
       "ename": "ValueError", 
       "evalue": "Format \"key\" is not supported.\nSupported formats: bmp, emf, eps, gif, jpeg, jpg, pdf, png, ps, raw, rgba, svg, svgz, tif, tiff.", 
       "output_type": "pyerr", 
       "traceback": [
        "\u001b[0;31m---------------------------------------------------------------------------\u001b[0m\n\u001b[0;31mValueError\u001b[0m                                Traceback (most recent call last)", 
        "\u001b[0;32m/Library/Frameworks/EPD64.framework/Versions/7.3/lib/python2.7/site-packages/matplotlib/backends/backend_macosx.py\u001b[0m in \u001b[0;36msave_figure\u001b[0;34m(self, *args)\u001b[0m\n\u001b[1;32m    469\u001b[0m         \u001b[0;32mif\u001b[0m \u001b[0mfilename\u001b[0m \u001b[0;32mis\u001b[0m \u001b[0mNone\u001b[0m\u001b[0;34m:\u001b[0m \u001b[0;31m# Cancel\u001b[0m\u001b[0;34m\u001b[0m\u001b[0m\n\u001b[1;32m    470\u001b[0m             \u001b[0;32mreturn\u001b[0m\u001b[0;34m\u001b[0m\u001b[0m\n\u001b[0;32m--> 471\u001b[0;31m         \u001b[0mself\u001b[0m\u001b[0;34m.\u001b[0m\u001b[0mcanvas\u001b[0m\u001b[0;34m.\u001b[0m\u001b[0mprint_figure\u001b[0m\u001b[0;34m(\u001b[0m\u001b[0mfilename\u001b[0m\u001b[0;34m)\u001b[0m\u001b[0;34m\u001b[0m\u001b[0m\n\u001b[0m\u001b[1;32m    472\u001b[0m \u001b[0;34m\u001b[0m\u001b[0m\n\u001b[1;32m    473\u001b[0m     \u001b[0;32mdef\u001b[0m \u001b[0mprepare_configure_subplots\u001b[0m\u001b[0;34m(\u001b[0m\u001b[0mself\u001b[0m\u001b[0;34m)\u001b[0m\u001b[0;34m:\u001b[0m\u001b[0;34m\u001b[0m\u001b[0m\n", 
        "\u001b[0;32m/Library/Frameworks/EPD64.framework/Versions/7.3/lib/python2.7/site-packages/matplotlib/backend_bases.py\u001b[0m in \u001b[0;36mprint_figure\u001b[0;34m(self, filename, dpi, facecolor, edgecolor, orientation, format, **kwargs)\u001b[0m\n\u001b[1;32m   1945\u001b[0m         \u001b[0mformat\u001b[0m \u001b[0;34m=\u001b[0m \u001b[0mformat\u001b[0m\u001b[0;34m.\u001b[0m\u001b[0mlower\u001b[0m\u001b[0;34m(\u001b[0m\u001b[0;34m)\u001b[0m\u001b[0;34m\u001b[0m\u001b[0m\n\u001b[1;32m   1946\u001b[0m \u001b[0;34m\u001b[0m\u001b[0m\n\u001b[0;32m-> 1947\u001b[0;31m         \u001b[0mprint_method\u001b[0m \u001b[0;34m=\u001b[0m \u001b[0mself\u001b[0m\u001b[0;34m.\u001b[0m\u001b[0m_get_print_method\u001b[0m\u001b[0;34m(\u001b[0m\u001b[0mformat\u001b[0m\u001b[0;34m)\u001b[0m\u001b[0;34m\u001b[0m\u001b[0m\n\u001b[0m\u001b[1;32m   1948\u001b[0m \u001b[0;34m\u001b[0m\u001b[0m\n\u001b[1;32m   1949\u001b[0m         \u001b[0;32mif\u001b[0m \u001b[0mdpi\u001b[0m \u001b[0;32mis\u001b[0m \u001b[0mNone\u001b[0m\u001b[0;34m:\u001b[0m\u001b[0;34m\u001b[0m\u001b[0m\n", 
        "\u001b[0;32m/Library/Frameworks/EPD64.framework/Versions/7.3/lib/python2.7/site-packages/matplotlib/backend_bases.py\u001b[0m in \u001b[0;36m_get_print_method\u001b[0;34m(self, format)\u001b[0m\n\u001b[1;32m   1885\u001b[0m                 \u001b[0;34m'Format \"%s\" is not supported.\\n'\u001b[0m\u001b[0;34m\u001b[0m\u001b[0m\n\u001b[1;32m   1886\u001b[0m                 \u001b[0;34m'Supported formats: '\u001b[0m\u001b[0;34m\u001b[0m\u001b[0m\n\u001b[0;32m-> 1887\u001b[0;31m                 '%s.' % (format, ', '.join(formats)))\n\u001b[0m\u001b[1;32m   1888\u001b[0m \u001b[0;34m\u001b[0m\u001b[0m\n\u001b[1;32m   1889\u001b[0m         \u001b[0;32mreturn\u001b[0m \u001b[0mgetattr\u001b[0m\u001b[0;34m(\u001b[0m\u001b[0mself\u001b[0m\u001b[0;34m,\u001b[0m \u001b[0mmethod_name\u001b[0m\u001b[0;34m)\u001b[0m\u001b[0;34m\u001b[0m\u001b[0m\n", 
        "\u001b[0;31mValueError\u001b[0m: Format \"key\" is not supported.\nSupported formats: bmp, emf, eps, gif, jpeg, jpg, pdf, png, ps, raw, rgba, svg, svgz, tif, tiff."
       ]
      }
     ]
    }, 
    {
     "cell_type": "code", 
     "collapsed": true, 
     "input": [], 
     "language": "python", 
     "outputs": []
    }
   ]
  }
 ]
}