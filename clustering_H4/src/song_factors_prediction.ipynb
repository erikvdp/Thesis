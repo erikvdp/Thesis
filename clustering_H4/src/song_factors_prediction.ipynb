{
 "metadata": {
  "name": "song_factors_prediction"
 }, 
 "nbformat": 2, 
 "worksheets": [
  {
   "cells": [
    {
     "cell_type": "code", 
     "collapsed": false, 
     "input": [
      "cd msd_dense_subset/"
     ], 
     "language": "python", 
     "outputs": [
      {
       "output_type": "stream", 
       "stream": "stdout", 
       "text": [
        "/Users/Enrico/Google Drive/Thesis/msd_dense_subset"
       ]
      }
     ], 
     "prompt_number": 4
    }, 
    {
     "cell_type": "code", 
     "collapsed": true, 
     "input": [
      "import cPickle as pickle", 
      "import numpy as np"
     ], 
     "language": "python", 
     "outputs": [], 
     "prompt_number": 6
    }, 
    {
     "cell_type": "code", 
     "collapsed": false, 
     "input": [
      "with open('song_factors_200.pkl','r') as f:", 
      "    data = pickle.load(f)", 
      "    V = data['V']", 
      "with open('interaction_matrix.pkl','r') as f:", 
      "    data = pickle.load(f)", 
      "    B = data['B']", 
      "    songs_map = data['songs_map']", 
      "    songs_map_inv = data['songs_map_inv']", 
      "    songid_least_to_most = data['songid_least_to_most']", 
      "    del data"
     ], 
     "language": "python", 
     "outputs": [], 
     "prompt_number": 58
    }, 
    {
     "cell_type": "code", 
     "collapsed": false, 
     "input": [
      "songid_least_to_most[-5:]"
     ], 
     "language": "python", 
     "outputs": [
      {
       "output_type": "pyout", 
       "prompt_number": 56, 
       "text": [
        "array(['SOCVTLJ12A6310F0FD', 'SOSXLTC12AF72A7F54', 'SOFRQTD12A81C233C0',", 
        "       'SOWCKVR12A8C142411', 'SOAXGDH12A8C13F8A1'], ", 
        "      dtype='|S18')"
       ]
      }
     ], 
     "prompt_number": 56
    }, 
    {
     "cell_type": "code", 
     "collapsed": false, 
     "input": [
      "means.shape"
     ], 
     "language": "python", 
     "outputs": [
      {
       "output_type": "pyout", 
       "prompt_number": 48, 
       "text": [
        "(10000,)"
       ]
      }
     ], 
     "prompt_number": 48
    }, 
    {
     "cell_type": "code", 
     "collapsed": false, 
     "input": [
      "plays = np.sum(B.todense(),axis=0)", 
      "plays_2 = np.argsort(np.bincount(np.nonzero(B)[1]))"
     ], 
     "language": "python", 
     "outputs": [], 
     "prompt_number": 40
    }, 
    {
     "cell_type": "code", 
     "collapsed": false, 
     "input": [
      "plays_2"
     ], 
     "language": "python", 
     "outputs": [
      {
       "output_type": "pyout", 
       "prompt_number": 42, 
       "text": [
        "array([9999, 9957, 7474, ...,  528,  856,  507])"
       ]
      }
     ], 
     "prompt_number": 42
    }, 
    {
     "cell_type": "code", 
     "collapsed": false, 
     "input": [
      "plays[0,:]"
     ], 
     "language": "python", 
     "outputs": [
      {
       "output_type": "pyout", 
       "prompt_number": 33, 
       "text": [
        "matrix([[ 4602.,  1153.,  1639., ...,    59.,    71.,    20.]], dtype=float32)"
       ]
      }
     ], 
     "prompt_number": 33
    }, 
    {
     "cell_type": "code", 
     "collapsed": false, 
     "input": [
      "songs_map['SOAXGDH12A8C13F8A1']"
     ], 
     "language": "python", 
     "outputs": [
      {
       "output_type": "pyout", 
       "prompt_number": 57, 
       "text": [
        "507"
       ]
      }
     ], 
     "prompt_number": 57
    }, 
    {
     "cell_type": "code", 
     "collapsed": false, 
     "input": [
      "cd ../clusterdata/pklfiles/"
     ], 
     "language": "python", 
     "outputs": [
      {
       "output_type": "stream", 
       "stream": "stdout", 
       "text": [
        "[Errno 2] No such file or directory: '../clusterdata/pklfiles/'", 
        "/Users/Enrico/Google Drive/Thesis/clusterdata/pklfiles"
       ]
      }
     ], 
     "prompt_number": 111
    }, 
    {
     "cell_type": "code", 
     "collapsed": false, 
     "input": [
      "with open('new_V_prediction.pkl','r') as f:", 
      "    data = pickle.load(f)", 
      "    V_old = data['V_old']", 
      "    V_new = data['V_new']", 
      "    test_idx = data['test_idx']", 
      "with open('new_V_random.pkl','r') as f:", 
      "    data = pickle.load(f)", 
      "    V_random = data['V_new']"
     ], 
     "language": "python", 
     "outputs": [], 
     "prompt_number": 112
    }, 
    {
     "cell_type": "code", 
     "collapsed": false, 
     "input": [
      "print V_old[9000,0:5]", 
      "print V_new[9000,0:5]", 
      "print V_random[9000,0:5]"
     ], 
     "language": "python", 
     "outputs": [
      {
       "output_type": "stream", 
       "stream": "stdout", 
       "text": [
        "[-0.12940377 -0.03302561 -0.02116611  0.03202813  0.12347462]", 
        "[-0.12940377 -0.03302561 -0.02116611  0.03202813  0.12347462]", 
        "[-0.12940377 -0.03302561 -0.02116611  0.03202813  0.12347462]"
       ]
      }
     ], 
     "prompt_number": 113
    }, 
    {
     "cell_type": "code", 
     "collapsed": false, 
     "input": [
      "print V_old[test_idx,20]", 
      "print V_new[test_idx,20]", 
      "print V_random[test_idx,20]"
     ], 
     "language": "python", 
     "outputs": [
      {
       "output_type": "stream", 
       "stream": "stdout", 
       "text": [
        "[ 0.12676659  0.14803475  0.1723787  ..., -0.29491284 -0.24848546", 
        " -0.03364413]", 
        "[ 0.06478924 -0.01476296 -0.08814426 ..., -0.13947144  0.0584439", 
        " -0.02481897]", 
        "[-0.06722328  0.02340549  0.01505207 ...,  0.06727283  0.0423905", 
        "  0.13856158]"
       ]
      }
     ], 
     "prompt_number": 114
    }, 
    {
     "cell_type": "code", 
     "collapsed": false, 
     "input": [
      "print np.mean((V_old[test_idx,:] - V_new[test_idx,:]) ** 2)", 
      "print np.mean((V_old[test_idx,:] - V_random[test_idx,:]) ** 2)"
     ], 
     "language": "python", 
     "outputs": [
      {
       "output_type": "stream", 
       "stream": "stdout", 
       "text": [
        "0.0423962019955", 
        "0.0514246987952"
       ]
      }
     ], 
     "prompt_number": 115
    }, 
    {
     "cell_type": "code", 
     "collapsed": false, 
     "input": [], 
     "language": "python", 
     "outputs": [
      {
       "output_type": "pyout", 
       "prompt_number": 103, 
       "text": [
        "(2490,)"
       ]
      }
     ], 
     "prompt_number": 103
    }, 
    {
     "cell_type": "code", 
     "collapsed": true, 
     "input": [], 
     "language": "python", 
     "outputs": []
    }
   ]
  }
 ]
}