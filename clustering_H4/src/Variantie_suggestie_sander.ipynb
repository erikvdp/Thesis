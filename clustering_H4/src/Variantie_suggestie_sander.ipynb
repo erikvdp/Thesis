{
 "metadata": {
  "name": "Variantie_suggestie_sander"
 }, 
 "nbformat": 2, 
 "worksheets": [
  {
   "cells": [
    {
     "cell_type": "code", 
     "collapsed": false, 
     "input": [
      "cd /Users/Enrico/Google\\ Drive/Thesis/clusterdata/pklfiles"
     ], 
     "language": "python", 
     "outputs": [
      {
       "output_type": "stream", 
       "stream": "stdout", 
       "text": [
        "/Users/Enrico/Google Drive/Thesis/clusterdata/pklfiles"
       ]
      }
     ], 
     "prompt_number": 2
    }, 
    {
     "cell_type": "code", 
     "collapsed": true, 
     "input": [
      "import numpy as np", 
      "import cPickle as pickle", 
      "import pylab as pl"
     ], 
     "language": "python", 
     "outputs": [], 
     "prompt_number": 3
    }, 
    {
     "cell_type": "code", 
     "collapsed": false, 
     "input": [
      "num_clusters = np.array([100,200,250,300,400,450,500,900,1100,1200])", 
      "mse_var = list()", 
      "for i in num_clusters:", 
      "    with open('factors_False_'+str(i)+'.pkl','r') as f:", 
      "        data = pickle.load(f)", 
      "        y_predictions = data['y_true']", 
      "        y_validation = data['y_pred']", 
      "        mse = np.mean((y_predictions - y_validation) ** 2)", 
      "        var = np.var(y_validation)", 
      "    mse_var.append(mse/var)"
     ], 
     "language": "python", 
     "outputs": [], 
     "prompt_number": 36
    }, 
    {
     "cell_type": "code", 
     "collapsed": false, 
     "input": [
      "print mse", 
      "print var"
     ], 
     "language": "python", 
     "outputs": [
      {
       "output_type": "stream", 
       "stream": "stdout", 
       "text": [
        "0.152945423221", 
        "0.0925925516584"
       ]
      }
     ], 
     "prompt_number": 37
    }, 
    {
     "cell_type": "code", 
     "collapsed": false, 
     "input": [
      "np.set_printoptions(precision=3)", 
      "np.set_printoptions(suppress=True)", 
      "print y_predictions[500,:]", 
      "print y_validation[500,:]"
     ], 
     "language": "python", 
     "outputs": [
      {
       "output_type": "stream", 
       "stream": "stdout", 
       "text": [
        "[-1.537  0.087  0.548 -0.082 -0.157  1.372  0.065  0.583 -0.416  0.835]", 
        "[-0.199  0.03   0.065 -0.246  0.073  0.479 -0.151  0.206 -0.172  0.374]"
       ]
      }
     ], 
     "prompt_number": 33
    }, 
    {
     "cell_type": "code", 
     "collapsed": false, 
     "input": [
      "print np.mean((y_predictions[500,:] - y_validation[500,:]) ** 2)", 
      "print np.var(y_validation[500,:])"
     ], 
     "language": "python", 
     "outputs": [
      {
       "output_type": "stream", 
       "stream": "stdout", 
       "text": [
        "0.336667386664", 
        "0.0553083142756"
       ]
      }
     ], 
     "prompt_number": 35
    }, 
    {
     "cell_type": "code", 
     "collapsed": false, 
     "input": [
      "pl.figure(1)", 
      "pl.clf()", 
      "pl.title('evolutie van MSE/var voor verschillend aantal clusters\\n'", 
      "         'num_frames = 5, zachte clustertoekenning')", 
      "pl.plot(num_clusters, mse_var,'ro-')", 
      "pl.ylabel(\"MSE / var(true factors)\")", 
      "pl.xlabel(\"num_clusters\")", 
      "pl.show()"
     ], 
     "language": "python", 
     "outputs": [], 
     "prompt_number": 21
    }, 
    {
     "cell_type": "code", 
     "collapsed": true, 
     "input": [
      "za"
     ], 
     "language": "python", 
     "outputs": []
    }
   ]
  }
 ]
}